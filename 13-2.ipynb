{
 "cells": [
  {
   "cell_type": "code",
   "execution_count": 13,
   "metadata": {},
   "outputs": [
    {
     "name": "stdout",
     "output_type": "stream",
     "text": [
      "(2500, 2)\n",
      "유시민 검찰도 사법도 썩었지 vs 진중권 유시민 망상 대중은 현실로 믿어\n"
     ]
    }
   ],
   "source": [
    "import pandas as pd\n",
    "import matplotlib.pyplot as plt\n",
    "\n",
    "df1 = pd.read_csv('./dataset/train_SectionDataset.csv', names=['title', 'section'], header=0) \n",
    "df1 = df1[ df1['section'] == 0]\n",
    "print( df1.shape )\n",
    "print( df1['title'][0] )"
   ]
  },
  {
   "cell_type": "code",
   "execution_count": 14,
   "metadata": {},
   "outputs": [
    {
     "name": "stdout",
     "output_type": "stream",
     "text": [
      "(44, 2)\n",
      "박준영 “도자기 집에서 사용” 김선교 “궁궐 살았나”\n",
      "박준영 “도자기 집에서 사용” 김선교 “궁궐 살았나”\n",
      "(2501, 2)\n"
     ]
    }
   ],
   "source": [
    "df2 = pd.read_csv('./dataset/test_SectionDataset.csv', names=['title', 'section'], header=0)\n",
    "df2 = df2[ df2['section'] == 0 ]\n",
    "print( df2.shape )\n",
    "print( df2['title'][0]  )\n",
    "\n",
    "new_string = df2['title'][0]\n",
    "print(new_string)\n",
    "oneitem = {'title': new_string, 'section': 0}\n",
    "df3 = df1.append(oneitem, ignore_index=True)\n",
    "print(df3.shape)"
   ]
  },
  {
   "cell_type": "code",
   "execution_count": 22,
   "metadata": {
    "scrolled": true
   },
   "outputs": [
    {
     "name": "stdout",
     "output_type": "stream",
     "text": [
      "                                      title\n",
      "0  유시민 검찰도 사법도 썩었지 vs 진중권 유시민 망상 대중은 현실로 믿어\n",
      "1                    여야 총선 필승 다짐...국회는 가시밭길\n",
      "2     SBS 여론조사③ 국정지지도 잘한다 49.3 vs 못한다 46.1%\n",
      "(2501, 21449)\n",
      "  (0, 14078)\t2\n",
      "  (0, 2208)\t1\n",
      "  (0, 9719)\t1\n",
      "  (0, 12046)\t1\n",
      "  (0, 1119)\t1\n",
      "  (0, 17563)\t1\n",
      "  (0, 6995)\t1\n",
      "  (0, 5896)\t1\n",
      "  (0, 20774)\t1\n",
      "  (0, 7981)\t1\n",
      "  (0, 14083)\t1\n",
      "  (0, 2209)\t1\n",
      "  (0, 9720)\t1\n",
      "  (0, 12047)\t1\n",
      "  (0, 1151)\t1\n",
      "  (0, 17576)\t1\n",
      "  (0, 14089)\t1\n",
      "  (0, 6996)\t1\n",
      "  (0, 5897)\t1\n",
      "  (0, 20775)\t1\n",
      "  (0, 14084)\t1\n",
      "  (0, 2210)\t1\n",
      "  (0, 9721)\t1\n",
      "  (0, 12048)\t1\n",
      "  (0, 1153)\t1\n",
      "  :\t:\n",
      "  (2499, 10155)\t1\n",
      "  (2499, 9931)\t1\n",
      "  (2499, 5960)\t1\n",
      "  (2499, 4928)\t1\n",
      "  (2499, 13779)\t1\n",
      "  (2499, 5085)\t1\n",
      "  (2499, 10156)\t1\n",
      "  (2500, 8138)\t1\n",
      "  (2500, 6359)\t1\n",
      "  (2500, 17640)\t1\n",
      "  (2500, 9753)\t1\n",
      "  (2500, 4208)\t1\n",
      "  (2500, 3630)\t1\n",
      "  (2500, 9902)\t1\n",
      "  (2500, 8139)\t1\n",
      "  (2500, 6360)\t1\n",
      "  (2500, 17641)\t1\n",
      "  (2500, 9754)\t1\n",
      "  (2500, 4209)\t1\n",
      "  (2500, 3631)\t1\n",
      "  (2500, 8140)\t1\n",
      "  (2500, 6361)\t1\n",
      "  (2500, 17642)\t1\n",
      "  (2500, 9755)\t1\n",
      "  (2500, 4210)\t1\n"
     ]
    }
   ],
   "source": [
    "from sklearn.feature_extraction.text import CountVectorizer\n",
    "\n",
    "print( df3[['title']].head(3) )\n",
    "count_vector = CountVectorizer( ngram_range=(1,3) )\n",
    "c_vector_titles = count_vector.fit_transform( df3['title'] )\n",
    "print( c_vector_titles.shape )\n",
    "print( c_vector_titles )"
   ]
  },
  {
   "cell_type": "code",
   "execution_count": 18,
   "metadata": {},
   "outputs": [
    {
     "name": "stdout",
     "output_type": "stream",
     "text": [
      "[[1.         0.         0.03857584 ... 0.         0.         0.        ]\n",
      " [0.         1.         0.         ... 0.         0.06085806 0.        ]\n",
      " [0.03857584 0.         1.         ... 0.         0.         0.        ]\n",
      " ...\n",
      " [0.         0.         0.         ... 1.         0.         0.        ]\n",
      " [0.         0.06085806 0.         ... 0.         1.         0.        ]\n",
      " [0.         0.         0.         ... 0.         0.         1.        ]]\n",
      "[[   0  702   17 ... 1652 1651 1250]\n",
      " [   1   64 1307 ... 1620 1618    0]\n",
      " [   2   56    3 ... 1654 1653 1250]\n",
      " ...\n",
      " [2498  633 2233 ... 1661 1660    0]\n",
      " [2499 1183 1192 ... 1648 1649    0]\n",
      " [2500  829  836 ... 1664 1663    0]]\n"
     ]
    }
   ],
   "source": [
    "from sklearn.metrics.pairwise import cosine_similarity\n",
    "\n",
    "titles_c_sim = cosine_similarity( c_vector_titles )\n",
    "print( titles_c_sim )\n",
    "\n",
    "titles_c_sim = titles_c_sim.argsort()[:, ::-1]\n",
    "print( titles_c_sim )"
   ]
  },
  {
   "cell_type": "code",
   "execution_count": 24,
   "metadata": {},
   "outputs": [
    {
     "name": "stdout",
     "output_type": "stream",
     "text": [
      "[2500]\n",
      "[[2500  829  836  835  834  833]]\n",
      "[2500  829  836  835  834  833]\n",
      "[829 836 835 834 833]\n"
     ]
    },
    {
     "data": {
      "text/html": [
       "<div>\n",
       "<style scoped>\n",
       "    .dataframe tbody tr th:only-of-type {\n",
       "        vertical-align: middle;\n",
       "    }\n",
       "\n",
       "    .dataframe tbody tr th {\n",
       "        vertical-align: top;\n",
       "    }\n",
       "\n",
       "    .dataframe thead th {\n",
       "        text-align: right;\n",
       "    }\n",
       "</style>\n",
       "<table border=\"1\" class=\"dataframe\">\n",
       "  <thead>\n",
       "    <tr style=\"text-align: right;\">\n",
       "      <th></th>\n",
       "      <th>title</th>\n",
       "      <th>section</th>\n",
       "    </tr>\n",
       "  </thead>\n",
       "  <tbody>\n",
       "    <tr>\n",
       "      <th>829</th>\n",
       "      <td>민주평화당 2020년 신년인사회</td>\n",
       "      <td>0</td>\n",
       "    </tr>\n",
       "    <tr>\n",
       "      <th>836</th>\n",
       "      <td>트럼프 “김정은 약속 지킬 것”…좋은 관계 재차 강조</td>\n",
       "      <td>0</td>\n",
       "    </tr>\n",
       "    <tr>\n",
       "      <th>835</th>\n",
       "      <td>민주평화당 2020년 신년인사회</td>\n",
       "      <td>0</td>\n",
       "    </tr>\n",
       "    <tr>\n",
       "      <th>834</th>\n",
       "      <td>민주평화당 2020년 신년인사회</td>\n",
       "      <td>0</td>\n",
       "    </tr>\n",
       "    <tr>\n",
       "      <th>833</th>\n",
       "      <td>새해 인사하는 정동영 대표</td>\n",
       "      <td>0</td>\n",
       "    </tr>\n",
       "  </tbody>\n",
       "</table>\n",
       "</div>"
      ],
      "text/plain": [
       "                             title  section\n",
       "829              민주평화당 2020년 신년인사회        0\n",
       "836  트럼프 “김정은 약속 지킬 것”…좋은 관계 재차 강조        0\n",
       "835              민주평화당 2020년 신년인사회        0\n",
       "834              민주평화당 2020년 신년인사회        0\n",
       "833                 새해 인사하는 정동영 대표        0"
      ]
     },
     "execution_count": 24,
     "metadata": {},
     "output_type": "execute_result"
    }
   ],
   "source": [
    "def get_recommend_title_list(df, input_title, top=6):\n",
    "    # 입력 제목 영화의 인텍스 값 추출\n",
    "    target_index = df[ df['title'] == input_title].index.values\n",
    "    print( target_index )\n",
    "    # 코사인 유사도 중 비슷한 코사인 유사도를 가진 정보를 추출    \n",
    "    sim_index1 = titles_c_sim[target_index, :top]\n",
    "    print( sim_index1 )\n",
    "    sim_index2 = sim_index1.reshape(-1)\n",
    "    print( sim_index2 )\n",
    "    # 본인 제외\n",
    "    sim_index3 = sim_index2[ sim_index2 != target_index ]\n",
    "    print( sim_index3 )\n",
    "    # 최종 선택   \n",
    "    return  df.iloc[ sim_index3 ]\n",
    "\n",
    "get_recommend_title_list(df3, df2['title'][0])"
   ]
  },
  {
   "cell_type": "code",
   "execution_count": 7,
   "metadata": {},
   "outputs": [],
   "source": [
    "count_vector = CountVectorizer( ngram_range=(1,3) )\n",
    "c_vector_titles = count_vector.fit_transform( df3['title'] )\n",
    "\n",
    "genres_c_sim = cosine_similarity( c_vector_titles)\n",
    "genres_c_sim = genres_c_sim.argsort()[:, ::-1]"
   ]
  },
  {
   "cell_type": "code",
   "execution_count": null,
   "metadata": {},
   "outputs": [],
   "source": []
  }
 ],
 "metadata": {
  "kernelspec": {
   "display_name": "Python 3",
   "language": "python",
   "name": "python3"
  },
  "language_info": {
   "codemirror_mode": {
    "name": "ipython",
    "version": 3
   },
   "file_extension": ".py",
   "mimetype": "text/x-python",
   "name": "python",
   "nbconvert_exporter": "python",
   "pygments_lexer": "ipython3",
   "version": "3.6.13"
  }
 },
 "nbformat": 4,
 "nbformat_minor": 4
}
